{
 "cells": [
  {
   "cell_type": "markdown",
   "metadata": {},
   "source": [
    "### Import Libraries"
   ]
  },
  {
   "cell_type": "code",
   "execution_count": 6,
   "metadata": {},
   "outputs": [],
   "source": [
    "import pandas as pd\n",
    "import numpy as np\n",
    "import matplotlib.pyplot as plt\n",
    "import seaborn as sns\n",
    "import warnings\n",
    "import numpy\n",
    "import random\n",
    "\n",
    "warnings.filterwarnings('ignore')"
   ]
  },
  {
   "cell_type": "markdown",
   "metadata": {},
   "source": [
    "#### Read Data"
   ]
  },
  {
   "cell_type": "code",
   "execution_count": 7,
   "metadata": {},
   "outputs": [],
   "source": [
    "data =pd.read_csv('2013_2018_data.csv', index_col=0)"
   ]
  },
  {
   "cell_type": "markdown",
   "metadata": {},
   "source": [
    "#### Dimensions of Data"
   ]
  },
  {
   "cell_type": "code",
   "execution_count": 8,
   "metadata": {},
   "outputs": [
    {
     "data": {
      "text/plain": [
       "(505, 3)"
      ]
     },
     "execution_count": 8,
     "metadata": {},
     "output_type": "execute_result"
    }
   ],
   "source": [
    "data.shape"
   ]
  },
  {
   "cell_type": "markdown",
   "metadata": {},
   "source": [
    "#### Peak at the Data"
   ]
  },
  {
   "cell_type": "code",
   "execution_count": 9,
   "metadata": {},
   "outputs": [
    {
     "data": {
      "text/html": [
       "<div>\n",
       "<style scoped>\n",
       "    .dataframe tbody tr th:only-of-type {\n",
       "        vertical-align: middle;\n",
       "    }\n",
       "\n",
       "    .dataframe tbody tr th {\n",
       "        vertical-align: top;\n",
       "    }\n",
       "\n",
       "    .dataframe thead th {\n",
       "        text-align: right;\n",
       "    }\n",
       "</style>\n",
       "<table border=\"1\" class=\"dataframe\">\n",
       "  <thead>\n",
       "    <tr style=\"text-align: right;\">\n",
       "      <th></th>\n",
       "      <th>Name</th>\n",
       "      <th>avg_yearly_returns</th>\n",
       "      <th>yearly_variance</th>\n",
       "    </tr>\n",
       "  </thead>\n",
       "  <tbody>\n",
       "    <tr>\n",
       "      <td>0</td>\n",
       "      <td>A</td>\n",
       "      <td>0.096396</td>\n",
       "      <td>0.063768</td>\n",
       "    </tr>\n",
       "    <tr>\n",
       "      <td>1</td>\n",
       "      <td>AAL</td>\n",
       "      <td>0.301402</td>\n",
       "      <td>0.256976</td>\n",
       "    </tr>\n",
       "    <tr>\n",
       "      <td>2</td>\n",
       "      <td>AAP</td>\n",
       "      <td>0.099695</td>\n",
       "      <td>0.102084</td>\n",
       "    </tr>\n",
       "    <tr>\n",
       "      <td>3</td>\n",
       "      <td>AAPL</td>\n",
       "      <td>0.174460</td>\n",
       "      <td>0.047989</td>\n",
       "    </tr>\n",
       "    <tr>\n",
       "      <td>4</td>\n",
       "      <td>ABBV</td>\n",
       "      <td>0.232597</td>\n",
       "      <td>0.055567</td>\n",
       "    </tr>\n",
       "  </tbody>\n",
       "</table>\n",
       "</div>"
      ],
      "text/plain": [
       "   Name  avg_yearly_returns  yearly_variance\n",
       "0     A            0.096396         0.063768\n",
       "1   AAL            0.301402         0.256976\n",
       "2   AAP            0.099695         0.102084\n",
       "3  AAPL            0.174460         0.047989\n",
       "4  ABBV            0.232597         0.055567"
      ]
     },
     "execution_count": 9,
     "metadata": {},
     "output_type": "execute_result"
    }
   ],
   "source": [
    "data.head()"
   ]
  },
  {
   "cell_type": "code",
   "execution_count": 10,
   "metadata": {},
   "outputs": [
    {
     "data": {
      "text/html": [
       "<div>\n",
       "<style scoped>\n",
       "    .dataframe tbody tr th:only-of-type {\n",
       "        vertical-align: middle;\n",
       "    }\n",
       "\n",
       "    .dataframe tbody tr th {\n",
       "        vertical-align: top;\n",
       "    }\n",
       "\n",
       "    .dataframe thead th {\n",
       "        text-align: right;\n",
       "    }\n",
       "</style>\n",
       "<table border=\"1\" class=\"dataframe\">\n",
       "  <thead>\n",
       "    <tr style=\"text-align: right;\">\n",
       "      <th></th>\n",
       "      <th>Name</th>\n",
       "      <th>avg_yearly_returns</th>\n",
       "      <th>yearly_variance</th>\n",
       "    </tr>\n",
       "  </thead>\n",
       "  <tbody>\n",
       "    <tr>\n",
       "      <td>500</td>\n",
       "      <td>XYL</td>\n",
       "      <td>0.189168</td>\n",
       "      <td>0.031551</td>\n",
       "    </tr>\n",
       "    <tr>\n",
       "      <td>501</td>\n",
       "      <td>YUM</td>\n",
       "      <td>0.049243</td>\n",
       "      <td>0.023073</td>\n",
       "    </tr>\n",
       "    <tr>\n",
       "      <td>502</td>\n",
       "      <td>ZBH</td>\n",
       "      <td>0.090899</td>\n",
       "      <td>0.019280</td>\n",
       "    </tr>\n",
       "    <tr>\n",
       "      <td>503</td>\n",
       "      <td>ZION</td>\n",
       "      <td>0.161756</td>\n",
       "      <td>0.064176</td>\n",
       "    </tr>\n",
       "    <tr>\n",
       "      <td>504</td>\n",
       "      <td>ZTS</td>\n",
       "      <td>0.155466</td>\n",
       "      <td>0.020696</td>\n",
       "    </tr>\n",
       "  </tbody>\n",
       "</table>\n",
       "</div>"
      ],
      "text/plain": [
       "     Name  avg_yearly_returns  yearly_variance\n",
       "500   XYL            0.189168         0.031551\n",
       "501   YUM            0.049243         0.023073\n",
       "502   ZBH            0.090899         0.019280\n",
       "503  ZION            0.161756         0.064176\n",
       "504   ZTS            0.155466         0.020696"
      ]
     },
     "execution_count": 10,
     "metadata": {},
     "output_type": "execute_result"
    }
   ],
   "source": [
    "data.tail()"
   ]
  },
  {
   "cell_type": "markdown",
   "metadata": {},
   "source": [
    "### Data Pre_Processing"
   ]
  },
  {
   "cell_type": "markdown",
   "metadata": {},
   "source": [
    "#### Attributes in Data"
   ]
  },
  {
   "cell_type": "code",
   "execution_count": 11,
   "metadata": {},
   "outputs": [
    {
     "data": {
      "text/plain": [
       "Index(['Name', 'avg_yearly_returns', 'yearly_variance'], dtype='object')"
      ]
     },
     "execution_count": 11,
     "metadata": {},
     "output_type": "execute_result"
    }
   ],
   "source": [
    "data.columns"
   ]
  },
  {
   "cell_type": "markdown",
   "metadata": {},
   "source": [
    "#### Data types of Attributes"
   ]
  },
  {
   "cell_type": "code",
   "execution_count": 12,
   "metadata": {},
   "outputs": [
    {
     "data": {
      "text/plain": [
       "Name                   object\n",
       "avg_yearly_returns    float64\n",
       "yearly_variance       float64\n",
       "dtype: object"
      ]
     },
     "execution_count": 12,
     "metadata": {},
     "output_type": "execute_result"
    }
   ],
   "source": [
    "data.dtypes"
   ]
  },
  {
   "cell_type": "markdown",
   "metadata": {},
   "source": [
    "#### Check Null Values"
   ]
  },
  {
   "cell_type": "code",
   "execution_count": 13,
   "metadata": {},
   "outputs": [
    {
     "data": {
      "text/plain": [
       "Name                  0\n",
       "avg_yearly_returns    0\n",
       "yearly_variance       6\n",
       "dtype: int64"
      ]
     },
     "execution_count": 13,
     "metadata": {},
     "output_type": "execute_result"
    }
   ],
   "source": [
    "data.isnull().sum()"
   ]
  },
  {
   "cell_type": "markdown",
   "metadata": {},
   "source": [
    "We have 6 null Values we have to remove them."
   ]
  },
  {
   "cell_type": "code",
   "execution_count": 14,
   "metadata": {},
   "outputs": [],
   "source": [
    "data.dropna(inplace=True)"
   ]
  },
  {
   "cell_type": "code",
   "execution_count": 15,
   "metadata": {},
   "outputs": [
    {
     "data": {
      "text/plain": [
       "Name                  0\n",
       "avg_yearly_returns    0\n",
       "yearly_variance       0\n",
       "dtype: int64"
      ]
     },
     "execution_count": 15,
     "metadata": {},
     "output_type": "execute_result"
    }
   ],
   "source": [
    "data.isnull().sum()"
   ]
  },
  {
   "cell_type": "markdown",
   "metadata": {},
   "source": [
    "#### Duplicate records"
   ]
  },
  {
   "cell_type": "code",
   "execution_count": 16,
   "metadata": {},
   "outputs": [
    {
     "data": {
      "text/plain": [
       "0"
      ]
     },
     "execution_count": 16,
     "metadata": {},
     "output_type": "execute_result"
    }
   ],
   "source": [
    "data.duplicated().sum()"
   ]
  },
  {
   "cell_type": "markdown",
   "metadata": {},
   "source": [
    "#### Describe the Data"
   ]
  },
  {
   "cell_type": "code",
   "execution_count": 17,
   "metadata": {},
   "outputs": [
    {
     "data": {
      "text/html": [
       "<div>\n",
       "<style scoped>\n",
       "    .dataframe tbody tr th:only-of-type {\n",
       "        vertical-align: middle;\n",
       "    }\n",
       "\n",
       "    .dataframe tbody tr th {\n",
       "        vertical-align: top;\n",
       "    }\n",
       "\n",
       "    .dataframe thead th {\n",
       "        text-align: right;\n",
       "    }\n",
       "</style>\n",
       "<table border=\"1\" class=\"dataframe\">\n",
       "  <thead>\n",
       "    <tr style=\"text-align: right;\">\n",
       "      <th></th>\n",
       "      <th>avg_yearly_returns</th>\n",
       "      <th>yearly_variance</th>\n",
       "    </tr>\n",
       "  </thead>\n",
       "  <tbody>\n",
       "    <tr>\n",
       "      <td>count</td>\n",
       "      <td>499.000000</td>\n",
       "      <td>499.000000</td>\n",
       "    </tr>\n",
       "    <tr>\n",
       "      <td>mean</td>\n",
       "      <td>0.117239</td>\n",
       "      <td>0.063590</td>\n",
       "    </tr>\n",
       "    <tr>\n",
       "      <td>std</td>\n",
       "      <td>0.107540</td>\n",
       "      <td>0.100835</td>\n",
       "    </tr>\n",
       "    <tr>\n",
       "      <td>min</td>\n",
       "      <td>-0.287048</td>\n",
       "      <td>0.002125</td>\n",
       "    </tr>\n",
       "    <tr>\n",
       "      <td>25%</td>\n",
       "      <td>0.055920</td>\n",
       "      <td>0.021566</td>\n",
       "    </tr>\n",
       "    <tr>\n",
       "      <td>50%</td>\n",
       "      <td>0.108931</td>\n",
       "      <td>0.039408</td>\n",
       "    </tr>\n",
       "    <tr>\n",
       "      <td>75%</td>\n",
       "      <td>0.165648</td>\n",
       "      <td>0.070944</td>\n",
       "    </tr>\n",
       "    <tr>\n",
       "      <td>max</td>\n",
       "      <td>0.753270</td>\n",
       "      <td>1.611375</td>\n",
       "    </tr>\n",
       "  </tbody>\n",
       "</table>\n",
       "</div>"
      ],
      "text/plain": [
       "       avg_yearly_returns  yearly_variance\n",
       "count          499.000000       499.000000\n",
       "mean             0.117239         0.063590\n",
       "std              0.107540         0.100835\n",
       "min             -0.287048         0.002125\n",
       "25%              0.055920         0.021566\n",
       "50%              0.108931         0.039408\n",
       "75%              0.165648         0.070944\n",
       "max              0.753270         1.611375"
      ]
     },
     "execution_count": 17,
     "metadata": {},
     "output_type": "execute_result"
    }
   ],
   "source": [
    "data.describe()"
   ]
  },
  {
   "cell_type": "markdown",
   "metadata": {},
   "source": [
    "#### correlation"
   ]
  },
  {
   "cell_type": "code",
   "execution_count": 18,
   "metadata": {},
   "outputs": [
    {
     "data": {
      "text/plain": [
       "<matplotlib.axes._subplots.AxesSubplot at 0x1a495cda208>"
      ]
     },
     "execution_count": 18,
     "metadata": {},
     "output_type": "execute_result"
    },
    {
     "data": {
      "image/png": "[encoded data removed]",
      "text/plain": [
       "<Figure size 432x432 with 2 Axes>"
      ]
     },
     "metadata": {
      "needs_background": "light"
     },
     "output_type": "display_data"
    }
   ],
   "source": [
    "fig = plt.figure(figsize=(6,6))\n",
    "sns.heatmap(data.corr(),cmap='coolwarm')"
   ]
  },
  {
   "cell_type": "markdown",
   "metadata": {},
   "source": [
    "Both attributes are not correlated."
   ]
  },
  {
   "cell_type": "markdown",
   "metadata": {},
   "source": [
    "## K Mean Clustring"
   ]
  },
  {
   "cell_type": "markdown",
   "metadata": {},
   "source": [
    "#### Euclidean Distance:"
   ]
  },
  {
   "cell_type": "code",
   "execution_count": 19,
   "metadata": {},
   "outputs": [],
   "source": [
    "# I have coded this part myself\n",
    "def euclidean_distance_numpy(object1, object2):\n",
    "    \"\"\"!\n",
    "    Calculate Euclidean distance between two objects using numpy.\n",
    "    Arguments:\n",
    "    \n",
    "    1. object1 (array_like): The first array_like object.\n",
    "    2. object2 (array_like): The second array_like object.\n",
    "    \n",
    "    Return:\n",
    "    \n",
    "    1. (double) Euclidean distance between two objects.\n",
    "    \"\"\"\n",
    "    return numpy.sum(numpy.sqrt(numpy.square(object1 - object2)), axis=1).T"
   ]
  },
  {
   "cell_type": "markdown",
   "metadata": {},
   "source": [
    "### Initialize centers"
   ]
  },
  {
   "cell_type": "markdown",
   "metadata": {},
   "source": [
    "K-Means++ is an algorithm for choosing the initial centers for algorithms like K-Means or X-Means.\n",
    "K-Means++ algorithm guarantees an approximation ratio O(log k). Clustering results are depends on initial centers in case of K-Means algorithm and even in case of X-Means. This method is used to find out optimal initial centers."
   ]
  },
  {
   "cell_type": "markdown",
   "metadata": {},
   "source": [
    "Algorithm can be divided into three steps.\n",
    "    1. The first center is chosen from input data randomly with  uniform distribution at the first step.\n",
    "    2. probability to being center is calculated for each point. Using these probabilities next center\n",
    "    is chosen.\n",
    "    3. The last step is repeated until required amount of centers is initialized."
   ]
  },
  {
   "cell_type": "code",
   "execution_count": 20,
   "metadata": {},
   "outputs": [],
   "source": [
    "class kmeans_plusplus:\n",
    "    \n",
    "    \"\"\"\n",
    "        This class of code is taken from:\n",
    "       https://github.com/annoviko/pyclustering/blob/78338b698ce8c3d318be7326a30aedf1a4db216e/pyclustering/cluster/center_initializer.py#L104\n",
    "    \"\"\"\n",
    "    \n",
    "    \"\"\"\n",
    "    This extra functionality we are not going to use it that why we will remove it.\n",
    "    \n",
    "    \n",
    "    ## Constant denotes that only points with highest probabilities should be considered as centers.\n",
    "    FARTHEST_CENTER_CANDIDATE = \"farthest\"\n",
    "    \"\"\"\n",
    "    \n",
    "\n",
    "\n",
    "    def __init__(self, data, amount_centers, amount_candidates=None):\n",
    "        \n",
    "        \"\"\"!\n",
    "        Creates K-Means++ center initializer instance.\n",
    "        \n",
    "        Arguments:\n",
    "        \n",
    "        1. data (array_like): List of points where each point is represented by list of coordinates.\n",
    "        2. amount_centers (uint): Amount of centers that should be initialized.\n",
    "        3. amount_candidates (uint): Amount of candidates that is considered as a center.\n",
    "        \"\"\"\n",
    "      \n",
    "        #initializing all values\n",
    "        self.__data = numpy.array(data)\n",
    "        self.__amount = amount_centers\n",
    "        self.__free_indexes = set(range(len(self.__data))) # this is generalization of code. Initialize free_indexes variable with length of total data. \n",
    "        # for example length of data is 5 then our free_indexes set looks like this {0,1,2,3,4} and theses are indexes of our data.\n",
    "        # here we are using set instead of list because set not allowed repetition of values. for free_indexes we don't want to repeat any value.\n",
    "            \n",
    "        #if amount of candidates is not given\n",
    "        if amount_candidates is None:\n",
    "            self.__candidates = 3\n",
    "            if self.__candidates > len(self.__data): # len() function for getting length of data\n",
    "                self.__candidates = len(self.__data) # len() function\n",
    "        else:\n",
    "            self.__candidates = amount_candidates\n",
    "        # function call for checking parameters\n",
    "        self.__check_parameters()\n",
    "\n",
    "        random.seed(30)\n",
    "        \n",
    "    def __check_parameters(self):\n",
    "        \n",
    "        \"\"\"!\n",
    "        Checks input parameters of the algorithm and if something wrong then corresponding exception is thrown\n",
    "        \"\"\"\n",
    "        #if given number of centers is less then equal to zero or gratter then total lenth of data then error msg will be show.\n",
    "        if (self.__amount <= 0) or (self.__amount > len(self.__data)): # Here we are using len() function of checking length of data which is generalization\n",
    "            raise ValueError(\"Amount of cluster centers '\" + str(self.__amount) + \"' should be at least 1 and \"\n",
    "                             \"should be less or equal to amount of points in data.\")\n",
    "        \"\"\"\n",
    "        we will remove this line of code because we earlier decide we are not going to use FARTHEST_CENTER_CANDIDATE in\n",
    "        our problem.\n",
    "        \n",
    "        if self.__candidates != kmeans_plusplus.FARTHEST_CENTER_CANDIDATE:\n",
    "        \"\"\"\n",
    "        \n",
    "        #if Amount of candidates that is considered as a center less then equal to zero or gratter then total lenth of data then error msg will be show.\n",
    "        if (self.__candidates <= 0) or (self.__candidates > len(self.__data)): # we are using length function for getting length of data\n",
    "            raise ValueError(\"Amount of center candidates '\" + str(self.__candidates) + \"' should be at least 1 \"\n",
    "                                 \"and should be less or equal to amount of points in data.\")\n",
    "        \n",
    "        # if data is empty it will throgh error\n",
    "        if len(self.__data) == 0:\n",
    "            raise ValueError(\"Data is empty.\")\n",
    "\n",
    "\n",
    "    def initialize(self, **kwargs):\n",
    "        \n",
    "        # defination **kwargs:   **kwargs is mostly used in function definitions. **kwargs allow you to pass a variable number\n",
    "        # of arguments to a function. What variable means here is that you do not know beforehand how many arguments \n",
    "        #can be passed to your function by the user so in this case you use these this keywords.\n",
    "        \n",
    "        \"\"\"!\n",
    "        Calculates initial centers using K-Means++ method.\n",
    "        \n",
    "        \n",
    "        Arguments:\n",
    "        \n",
    "        1. **kwargs:  In our case we accepting one argument from user which is Arbitrary keyword arguments (available arguments: 'return_index')\n",
    "        \n",
    "        detail : - return_index (bool): If True then returns indexes of points from input data instead of value.\n",
    "        \n",
    "        Return:\n",
    "        \n",
    "        1. (list) List of initialized initial centers.\n",
    "        \"\"\"\n",
    "   \n",
    "        # In this code we are doing two things. geting value of return_index from **kwargs if user type any value \n",
    "        #else if user did not give any arguments then return_index value will be false\n",
    "        return_index = kwargs.get('return_index', False) \n",
    "        \n",
    "        \n",
    "        #Get first Center by calling function which will be use for finding other centers\n",
    "        index_point = self.__get_initial_center(True)\n",
    "        centers = [index_point]\n",
    "        # remove the index from set which we select for first center so it will not select again. Now we want to slect remaing centers \n",
    "        # with the help of first center by finding probabilities.\n",
    "        self.__free_indexes.remove(index_point)\n",
    "\n",
    "        # For each next center we want to find.\n",
    "        for _ in range(1, self.__amount):\n",
    "            index_point = self.__get_next_center(centers)\n",
    "            centers.append(index_point) # append index of center in list\n",
    "            # remove the index from set which we select so it will not select again\n",
    "            self.__free_indexes.remove(index_point)\n",
    "        \n",
    "        # if return_index is false then we will perform this\n",
    "        if not return_index:\n",
    "            # list comprehension for getting center values with help of center index\n",
    "            centers = [self.__data[index] for index in centers]\n",
    " \n",
    "        return centers\n",
    "    \n",
    "    \n",
    "\n",
    "    def __calculate_shortest_distances(self, data, centers):\n",
    "        \n",
    "        \"\"\"!\n",
    "        Calculates distance from each data point to nearest center.\n",
    "        \n",
    "        Arguments:\n",
    "        \n",
    "        1. data (numpy.array): Array of points for that initialization is performed.\n",
    "        2. centers (numpy.array): Array of indexes that represents centers.\n",
    "        \n",
    "        Return:\n",
    "        \n",
    "        1. (numpy.array) List of distances to closest center for each data point.\n",
    "        \n",
    "        \"\"\"\n",
    "      \n",
    "        # intializing dataset_differences with zeros\n",
    "        # this will create 2 demention arrary. first demention is equal to number centers and 2nd equal to length of data.\n",
    "        # for example: we have 2 center and length of data is 5 then array=[[0,0,0,0,0],[0,0,0,0,0]]\n",
    "        # in simple words we can say that dataset_differences is a array which contain multiple arrays and in precise \n",
    "        # number of arrays in dataset_differences is equal to number of centers and each array length is equal to lenght of data\n",
    "        dataset_differences = numpy.zeros((len(centers), len(data)))\n",
    "        \n",
    "        for index_center in range(len(centers)): # repeat for every center\n",
    "            \n",
    "            center = data[centers[index_center]] # getting value of center\n",
    "            # calculating distance b/w data and centers. and place difference array on same index of center  for which we calculating \n",
    "            # difference\n",
    "            # for example we get first index_center and  from this index we get the center value and we calculate difference\n",
    "            # with data and it will return array of difference. and now we will store it in dataset_differences we define with equal number of\n",
    "            #centers. and place it in first index. and this will repeat for every center.\n",
    "            dataset_differences[index_center] = euclidean_distance_numpy(data,center)\n",
    "\n",
    "        with warnings.catch_warnings():\n",
    "            #if we have any any null value then ignore it\n",
    "            numpy.warnings.filterwarnings('ignore', r'All-NaN (slice|axis) encountered')\n",
    "            # this will Return one minimum difference array from all the array we store in dataset_differences, ignoring any Null values.\n",
    "            shortest_distances = numpy.nanmin(dataset_differences, axis=0)\n",
    "\n",
    "        return shortest_distances\n",
    "\n",
    "\n",
    "    def __get_next_center(self, centers):\n",
    "        \"\"\"!\n",
    "        Calculates the next center for the data.\n",
    "        Argument:\n",
    "        \n",
    "        1. centers (array_like): Current initialized centers represented by indexes.\n",
    "        \n",
    "        Return:\n",
    "        \n",
    "        1. (array_like) Next initialized center.\n",
    "                \n",
    "        \"\"\"\n",
    "     \n",
    "        distances = self.__calculate_shortest_distances(self.__data, centers) # Calculate shortest distance with all given centers\n",
    "        \n",
    "        \"\"\"\n",
    "        We will remove this code because FARTHEST_CENTER_CANDIDATE in our problem.\n",
    "        \n",
    "        if self.__candidates == kmeans_plusplus.FARTHEST_CENTER_CANDIDATE:\n",
    "            for index_point in centers:\n",
    "                distances[index_point] = numpy.nan\n",
    "            center_index = numpy.nanargmax(distances)\n",
    "        else:\n",
    "        \n",
    "        \"\"\"\n",
    "        \n",
    "        probabilities = self.__calculate_probabilities(distances) # get probabilities base on distances\n",
    "        center_index = self.__get_probable_center(distances, probabilities) # get best center index base on probabilities and distances\n",
    "\n",
    "        return center_index\n",
    "\n",
    "\n",
    "    def __get_initial_center(self, return_index):\n",
    "        \n",
    "        \"\"\"!\n",
    "        Choose randomly first center.\n",
    "        Argument:\n",
    "        \n",
    "        1. return_index (bool): If True then return center's index instead of point.\n",
    "        \n",
    "        Return:\n",
    "        \n",
    "        1.(array_like) First center.\n",
    "                (uint) Index of first center.\n",
    "        \"\"\"\n",
    "   \n",
    "        index_center = random.randint(0, len(self.__data) - 1) # randomly select an index for first center uniformaly\n",
    "    \n",
    "        if return_index: # if true then return index of first center\n",
    "            return index_center # return index of center\n",
    "\n",
    "        return self.__data[index_center] # # if return_index is not true then return value of first center\n",
    "\n",
    "\n",
    "    def __calculate_probabilities(self, distances):\n",
    "      \n",
    "        \"\"\"!\n",
    "        Calculates cumulative probabilities of being center of each point.\n",
    "        \n",
    "        Argument:\n",
    "        \n",
    "        1. distances (array_like): Distances from each point to closest center.\n",
    "        \n",
    "        Return:\n",
    "        \n",
    "        1.  (array_like) Cumulative probabilities of being center of each point.\n",
    "        \"\"\"\n",
    "\n",
    "        total_distance = numpy.sum(distances) # sum all the distances\n",
    "        \n",
    "        #if total sum of distance is not equal to zero then Calculate prob. else retrun zero prob\n",
    "        if total_distance != 0.0:\n",
    "            probabilities = distances / total_distance\n",
    "            return numpy.cumsum(probabilities) #calculating Cumulative probability with numpy function\n",
    "        else:\n",
    "            return numpy.zeros(len(distances))\n",
    "\n",
    "\n",
    "    def __get_probable_center(self, distances, probabilities):\n",
    "        \n",
    "        \"\"\"!\n",
    "        Calculates the next probable center considering amount candidates.\n",
    "        \n",
    "        Arguments:\n",
    "        \n",
    "        1. distances (array_like): Distances from each point to closest center.\n",
    "        2. probabilities (array_like): Cumulative probabilities of being center of each point.\n",
    "        \n",
    "        Return:\n",
    "        \n",
    "        1. (uint) Index point that is next initialized center.\n",
    "        \"\"\"\n",
    "   \n",
    "        index_best_candidate = 0\n",
    "        # Using two for loops for calculating index_best_candidate (Best center point)\n",
    "        for i in range(self.__candidates):\n",
    "            candidate_probability = random.random() #setting probability randomly.\n",
    "            index_candidate = -1\n",
    "\n",
    "            for index_object in range(len(probabilities)): # run for each probabilities we find in calculate_probabilities.\n",
    "                \n",
    "                 # if candidate_probability is less then probabilities of any index then assign index_candidate equal to index_object\n",
    "                # and break the loop\n",
    "                if candidate_probability < probabilities[index_object]:\n",
    "                    index_candidate = index_object\n",
    "                    break\n",
    "\n",
    "            if index_candidate == -1:\n",
    "                 # handling error if index_candidate value remain -1 then what will we do. \n",
    "                #We use the next() function to manually iterate through all the items of an iterator\n",
    "                index_best_candidate = next(iter(self.__free_indexes))\n",
    "            elif distances[index_best_candidate] < distances[index_candidate]: # else we set our best candidate value for center\n",
    "                index_best_candidate = index_candidate\n",
    "\n",
    "        return index_best_candidate # return best index for next center"
   ]
  },
  {
   "cell_type": "markdown",
   "metadata": {},
   "source": [
    "### Algorithm"
   ]
  },
  {
   "cell_type": "markdown",
   "metadata": {},
   "source": [
    "K-Means clustering results depend on initial centers. So I used Algorithm K-Means++ used for initialization of initial centers."
   ]
  },
  {
   "cell_type": "code",
   "execution_count": 21,
   "metadata": {},
   "outputs": [],
   "source": [
    "# for loop counting\n",
    "loopCounter = 0"
   ]
  },
  {
   "cell_type": "code",
   "execution_count": 22,
   "metadata": {},
   "outputs": [],
   "source": [
    "\"\"\"\n",
    "This part of code is taken from \n",
    "https://github.com/annoviko/pyclustering/blob/78338b698ce8c3d318be7326a30aedf1a4db216e/pyclustering/cluster/kmeans.py#L272\n",
    "\n",
    "\"\"\"\n",
    "class kmeans:\n",
    "    \"\"\"!\n",
    "     Class implements K-Means clustering algorithm.\n",
    "    \n",
    "    \"\"\"\n",
    "    \n",
    "    \n",
    "    def __init__(self, data, initial_centers, tolerance=0.001, ccore=False, **kwargs):\n",
    "        \n",
    "        \"\"\"!\n",
    "        Constructor of clustering algorithm K-Means.\n",
    "        \n",
    "        Arguments:\n",
    "        \n",
    "        1. data (array_like): Input data that is presented as array of points (objects),\n",
    "        each point should be represented by array_like data structure.\n",
    "        2. initial_centers (array_like): Initial coordinates of centers of clusters that are represented by\n",
    "            array_like data structure: [center1, center2, ...].\n",
    "        3. tolerance (double): Stop condition: if maximum value of change of centers of clusters is\n",
    "           less than tolerance then algorithm stops processing.\n",
    "           \n",
    "        4. **kwargs: Arbitrary keyword arguments (available arguments: 'observer', 'metric', 'itermax').\n",
    "            \n",
    "           Note: We will remove observer,metric. these arguments are library dependent so we will use only itermax.\n",
    "        \"\"\"\n",
    "       \n",
    "        self.__pointer_data = numpy.array(data)\n",
    "        self.__clusters = []\n",
    "        self.__centers = numpy.array(initial_centers)\n",
    "        self.__tolerance = tolerance\n",
    "        self.__total_wce = 0.0\n",
    "        \n",
    "        self.__itermax = kwargs.get('itermax', 100) # get itermax value if user give else use 100.\n",
    "\n",
    "        \"\"\"\n",
    "        commenting this code because this is library dependent\n",
    "       \n",
    "        self.__observer = kwargs.get('observer', None)\n",
    "        self.__metric = kwargs.get('metric', distance_metric(type_metric.EUCLIDEAN_SQUARE))\n",
    "\n",
    "        if self.__metric.get_type() != type_metric.USER_DEFINED:\n",
    "            self.__metric.enable_numpy_usage()\n",
    "        else:\n",
    "            self.__metric.disable_numpy_usage()\n",
    "        \n",
    "        self.__ccore = ccore and self.__metric.get_type() != type_metric.USER_DEFINED\n",
    "        if self.__ccore is True:\n",
    "            self.__ccore = ccore_library.workable()\n",
    "            \n",
    "         \"\"\"\n",
    "        # call function for verify arguments\n",
    "        self.__verify_arguments()\n",
    "\n",
    "\n",
    "    def process(self):\n",
    "        \n",
    "        \"\"\"!\n",
    "        Performs cluster analysis with K-Means algorithm.\n",
    "        \n",
    "        Return:\n",
    "        \n",
    "        1. K-Means instance.\n",
    "       \n",
    "        \n",
    "        \"\"\"\n",
    "        \n",
    "        if len(self.__pointer_data[0]) != len(self.__centers[0]):\n",
    "            raise ValueError(\"Dimension of the input data and dimension of the initial cluster centers must be equal.\")\n",
    "\n",
    "        \"\"\"\n",
    "        # library dependent. process_by_ccore() will use c programming language for performing K mean clustring\n",
    "        \n",
    "         if self.__ccore is True:\n",
    "            self.__process_by_ccore()\n",
    "        else:\n",
    "        \"\"\"\n",
    "       \n",
    "        self.__process_by_python()\n",
    "\n",
    "        return self\n",
    "    \n",
    "\n",
    "    #  remove this function this is library dependent\n",
    "    \"\"\"\n",
    "    \n",
    "    def __process_by_ccore(self):\n",
    "        \n",
    "        ccore_metric = metric_wrapper.create_instance(self.__metric)\n",
    "\n",
    "        results = wrapper.kmeans(self.__pointer_data, self.__centers, self.__tolerance, self.__itermax, (self.__observer is not None), ccore_metric.get_pointer())\n",
    "        self.__clusters = results[0]\n",
    "        self.__centers = results[1]\n",
    "\n",
    "        if self.__observer is not None:\n",
    "            self.__observer.set_evolution_clusters(results[2])\n",
    "            self.__observer.set_evolution_centers(results[3])\n",
    "\n",
    "        self.__total_wce = results[4][0]\n",
    "      \"\"\"\n",
    "\n",
    "\n",
    "    def __process_by_python(self):\n",
    "        \n",
    "\n",
    "        maximum_change = float('inf')\n",
    "        iteration = 0\n",
    "        \n",
    "        # this part of code repeat until we converge (centers did not changes)\n",
    "        \n",
    "       \n",
    "        \"\"\"\n",
    "        Remove this part of code this is this extra functionality and library dependent\n",
    "        \n",
    "        if self.__observer is not None:\n",
    "            initial_clusters = self.__update_clusters()\n",
    "            self.__observer.notify(initial_clusters, self.__centers.tolist())\n",
    "        \n",
    "        \"\"\"\n",
    "        \n",
    "        \"\"\"\n",
    "        We set 2 conditions to stop our iterations.\n",
    "        \n",
    "        1. If our maximum change is less then our tolerance value\n",
    "        2. And iterations equals to our given iterations\n",
    "        \n",
    "        The process will continue untill our both conditions are true.\n",
    "        \n",
    "        \"\"\"\n",
    "        \n",
    "        while maximum_change > self.__tolerance and iteration < self.__itermax:\n",
    "            \n",
    "            self.__clusters = self.__update_clusters() # update clusters with the help of  centers.\n",
    "            updated_centers = self.__update_centers()  # We are finding updated centers for finding maximum change and stop our iterations\n",
    "            # changes should be calculated before we update our centers. We find maximum change b/w new and old centers. so updated_centers \n",
    "            # is temporary variable which hold updated centers and __center hold old centers.\n",
    "            \n",
    "            \"\"\"\n",
    "            remove this part of code this is library dependent\n",
    "            \n",
    "            if self.__observer is not None:\n",
    "                self.__observer.notify(self.__clusters, updated_centers.tolist())\n",
    "            \"\"\"\n",
    "            \n",
    "            \n",
    "            # we calculate changes b/w old and new centers for stoping iterations\n",
    "            maximum_change = self.__calculate_changes(updated_centers)\n",
    "\n",
    "            self.__centers = updated_centers    # now we can update our centers after change calculation and if maximum change \n",
    "            #is greater then tolerance then we again update our clusters base on these now centers. and after clusters are update\n",
    "            # our centers may be update also. so we again calculate maximum change and then update the center on orignal place.\n",
    "            iteration += 1\n",
    "\n",
    "        self.__calculate_total_wce() # calling function for caculating total error between clusters.\n",
    "\n",
    "\n",
    "\n",
    "    def predict(self, points):\n",
    "        \n",
    "        \n",
    "        \"\"\"!\n",
    "        Calculates the closest cluster to each point.\n",
    "        \n",
    "        Argument:\n",
    "        \n",
    "        1. points (array_like): Points for which closest clusters are calculated.\n",
    "        \n",
    "        Return:\n",
    "        \n",
    "        1.  (list) List of closest clusters for each point. Each cluster is denoted by index. Return empty collection \n",
    "        if 'process()' method was not called.\n",
    "        \"\"\"\n",
    "        \n",
    "\n",
    "        nppoints = numpy.array(points)\n",
    "        if len(self.__clusters) == 0:\n",
    "        \n",
    "            return []\n",
    "\n",
    "        differences = numpy.zeros((len(nppoints), len(self.__centers)))\n",
    "        for index_point in range(len(nppoints)):\n",
    "            \"\"\"\n",
    "            if self.__metric.get_type() != type_metric.USER_DEFINED:\n",
    "                differences[index_point] = self.__metric(nppoints[index_point], self.__centers)\n",
    "            else:\n",
    "             \"\"\"\n",
    "            differences[index_point] = [ euclidean_distance_numpy(nppoints[index_point], center) for center in self.__centers ]\n",
    "\n",
    "        return numpy.argmin(differences, axis=1)\n",
    "\n",
    "\n",
    "    def get_clusters(self):\n",
    "        \n",
    "        \"\"\"!\n",
    "        Returns:\n",
    "        \n",
    "        1. list of allocated clusters, each cluster contains indexes of objects in list of data.\n",
    "        \n",
    "        \"\"\"\n",
    "        return self.__clusters\n",
    "\n",
    "\n",
    "    def get_centers(self):\n",
    "        \n",
    "        \"\"\"!\n",
    "        Returns:\n",
    "        1. list of centers of allocated clusters.\n",
    "        \"\"\"\n",
    "\n",
    "        if isinstance(self.__centers, list):\n",
    "            return self.__centers\n",
    "        \n",
    "        return self.__centers.tolist()\n",
    "\n",
    "\n",
    "    def get_total_wce(self):\n",
    "        \n",
    "        \"\"\"!\n",
    "        Returns:\n",
    "        \n",
    "        1. sum of metric errors that depends on metric that was used for clustering (SSE - Sum of Squared Errors).\n",
    "    \n",
    "        \"\"\"\n",
    "\n",
    "        return self.__total_wce\n",
    "\n",
    "    # remove this function this is libraray dependent\n",
    "    \"\"\"\n",
    "    def get_cluster_encoding(self):\n",
    "        \n",
    "        \n",
    "        return type_encoding.CLUSTER_INDEX_LIST_SEPARATION\n",
    "    \"\"\"\n",
    "\n",
    "    \n",
    "    def __update_clusters(self):\n",
    "        \"\"\"!\n",
    "        Calculate distance to each point from the each cluster. Nearest points are captured by \n",
    "        according clusters and as a result clusters are updated.\n",
    "        \n",
    "        Return:\n",
    "        \n",
    "        1. (list) Updated clusters as list of clusters. Each cluster contains indexes of objects from data.\n",
    "        \n",
    "        \"\"\"\n",
    "       \n",
    "         #using list comprehension initialize empty clusters. if we have 3 clusters then it will initialize 3 empty lists in a list\n",
    "        # it is called lists in a list.\n",
    "        clusters = [[] for _ in range(len(self.__centers))]\n",
    "        \n",
    "        # calculating differences for every centers by calling function\n",
    "        dataset_differences = self.__calculate_dataset_difference(len(clusters)) \n",
    "        \n",
    "        # get the minimum indexes from all arrays.\n",
    "        optimum_indexes = numpy.argmin(dataset_differences, axis=0)\n",
    "        \n",
    "        for index_point in range(len(optimum_indexes)):\n",
    "            index_cluster = optimum_indexes[index_point]\n",
    "            clusters[index_cluster].append(index_point) # we appending index_point in which clusters they blong.\n",
    "        \n",
    "        #list comprehension for removing cluster having zero element if any clusters have no value\n",
    "        clusters = [cluster for cluster in clusters if len(cluster) > 0]\n",
    "\n",
    "        return clusters\n",
    "    \n",
    "    \n",
    "    def get_label(self):\n",
    "        \"\"\"!\n",
    "        Returns:\n",
    "        \n",
    "        1. list of labels, which data belongs to which cluster.\n",
    "        \n",
    "        \"\"\"\n",
    "        # intializing with zeros\n",
    "        labels = numpy.zeros(len(self.__pointer_data), dtype=int)\n",
    "        #getting which poits belong to which cluster\n",
    "        for cluster in range(len(self.__clusters)): \n",
    "            for index in self.__clusters[cluster]:\n",
    "                labels[index] = cluster\n",
    "                \n",
    "        return labels\n",
    "    \n",
    "\n",
    "    def __update_centers(self):\n",
    "        \n",
    "        \"\"\"!\n",
    "        Calculate centers of clusters and also update centers according to new clusters.\n",
    "        \n",
    "        Return:\n",
    "        \n",
    "        1. (numpy.array) Updated centers.\n",
    "        \"\"\"\n",
    "        \n",
    "        dimension = self.__pointer_data.shape[1] # get the demension of data. generalize code.\n",
    "        \n",
    "        # intialize centers with zeros\n",
    "        centers = numpy.zeros((len(self.__clusters), dimension))\n",
    "        \n",
    "        \n",
    "        for index in range(len(self.__clusters)): # repeat for every cluster\n",
    "            cluster_points = self.__pointer_data[self.__clusters[index], :] # salicing numpy array\n",
    "            centers[index] = cluster_points.mean(axis=0) # calculating mean for every clusters which are our new centers\n",
    "\n",
    "        return numpy.array(centers)\n",
    "\n",
    "\n",
    "    def __calculate_total_wce(self):\n",
    "        \"\"\"!\n",
    "        Calculate total within cluster errors .\n",
    "        \"\"\"\n",
    "        \n",
    "        # calculate difference by calling function\n",
    "        dataset_differences = self.__calculate_dataset_difference(len(self.__clusters))\n",
    "        \n",
    "        # as we know dataset_differences contains multiple arrays. so will add all difference for getting total array\n",
    "        self.__total_wce = 0\n",
    "        \n",
    "        # using 2 for loops for finding total error\n",
    "        for index_cluster in range(len(self.__clusters)):\n",
    "            for index_point in self.__clusters[index_cluster]:\n",
    "                self.__total_wce += dataset_differences[index_cluster][index_point]\n",
    "\n",
    "\n",
    "    def __calculate_dataset_difference(self, amount_clusters):\n",
    "        \n",
    "        \"\"\"!\n",
    "        Calculate distance from each point to each cluster center\n",
    "        \"\"\"\n",
    "        # add this for counting loops\n",
    "        global loopCounter\n",
    "        \n",
    "        #iniliazing dataset differences with zero\n",
    "        dataset_differences = numpy.zeros((amount_clusters, len(self.__pointer_data)))\n",
    "        for index_center in range(amount_clusters):\n",
    "            \"\"\"\n",
    "            We must change this according to our problem this is library depentdent, we will use our \n",
    "            euclidean function for calculating difference.\n",
    "             \n",
    "            if self.__metric.get_type() != type_metric.USER_DEFINED:\n",
    "                dataset_differences[index_center] = self.__metric(self.__pointer_data, self.__centers[index_center])\n",
    "            else:\n",
    "                dataset_differences[index_center] = [ self.__metric(point, self.__centers[index_center])\n",
    "                                                      for point in self.__pointer_data ]\n",
    "            \"\"\"\n",
    "            \n",
    "            # calling euclidean_distance_numpy for calculating difference b.w two points\n",
    "            dataset_differences[index_center] = euclidean_distance_numpy(self.__pointer_data, self.__centers[index_center])\n",
    "            \n",
    "            loopCounter += 1\n",
    "       \n",
    "        return dataset_differences\n",
    "\n",
    "\n",
    "    def __calculate_changes(self, updated_centers):\n",
    "        \n",
    "        \"\"\"!\n",
    "        Calculates changes estimation between previous and current iteration using centers for that purpose.\n",
    "        \n",
    "        Argument:\n",
    "        \n",
    "        1. updated_centers (array_like): New cluster centers.\n",
    "        \n",
    "        Return:\n",
    "        \n",
    "        1. (float) Maximum changes between centers.\n",
    "        \"\"\"\n",
    "        \n",
    "        if len(self.__centers) != len(updated_centers):\n",
    "            maximum_change = float('inf')\n",
    "\n",
    "        else:\n",
    "            \"\"\"\n",
    "            Change this code for our distance. we will use our distance formula\n",
    "            changes = self.__metric(self.__centers, updated_centers)\n",
    "            \"\"\"\n",
    "            changes = euclidean_distance_numpy(self.__centers, updated_centers)\n",
    "            maximum_change = numpy.max(changes)\n",
    "\n",
    "        return maximum_change\n",
    "\n",
    "\n",
    "    def __verify_arguments(self):\n",
    "        \"\"\"!\n",
    "         Verify input parameters for the algorithm and throw exception in case of incorrectness.\n",
    "        \"\"\"\n",
    "        \n",
    "        if len(self.__pointer_data) == 0:\n",
    "            raise ValueError(\"Input data is empty (size: '%d').\" % len(self.__pointer_data))\n",
    "\n",
    "        if len(self.__centers) == 0:\n",
    "            raise ValueError(\"Initial centers are empty (size: '%d').\" % len(self.__pointer_data))\n",
    "\n",
    "        if self.__tolerance < 0:\n",
    "            raise ValueError(\"Tolerance (current value: '%d') should be greater or equal to 0.\" %\n",
    "                             self.__tolerance)\n",
    "\n",
    "        if self.__itermax < 0:\n",
    "            raise ValueError(\"Maximum iterations (current value: '%d') should be greater or equal to 0.\" %\n",
    "                             self.__tolerance)"
   ]
  },
  {
   "cell_type": "markdown",
   "metadata": {},
   "source": [
    "## Modelling\n"
   ]
  },
  {
   "cell_type": "markdown",
   "metadata": {},
   "source": [
    "#### Evaluation\n",
    "Typically, two metrics are used to evaluate a K-means model.\n",
    "\n",
    "1. Sum of square errors (SSE) within clusters\n",
    "\n",
    "2. Silhouette score.\n",
    "\n",
    "And we will use SSE for evaluation.\n",
    "\n",
    "SSE within clusters is derived by summing up the squared distance between each data point and its closest centroid. The goal is to reduce the error value. The intuition behind this is that we would want the distance of each data point to be as close as possible to the centroid. If the error is small, it would mean that the data points in the same cluster are relatively similar. As the number of centroids (clusters) increase, the error value will decrease. As such we would need to rely on the next metric to ensure that we are not introducing too many centroids (clusters) in the model."
   ]
  },
  {
   "cell_type": "code",
   "execution_count": 23,
   "metadata": {},
   "outputs": [],
   "source": [
    "\"\"\"\n",
    "This part of code is taken from the link you provided and from evaluation part for finding best number of clusters.\n",
    "\"\"\"\n",
    "\n",
    "def plot_cluster(df, max_loop=50):\n",
    "    \"\"\"\n",
    "    Looking at the performance of various number of clusters using K-Means.\n",
    "    Performance is evaluated by within cluster SSE .\n",
    "    \"\"\"\n",
    "    try:\n",
    "        df.drop('cluster', axis=1, inplace=True)\n",
    "    except:\n",
    "        next\n",
    "    X = df.iloc[:,1:]\n",
    "    sample=X\n",
    "    sse_within_cluster = {}\n",
    "    \n",
    "    for k in range(3, max_loop):\n",
    "        initial_centers = kmeans_plusplus(sample, k).initialize() # creating k means plus plus object with data and\n",
    "        # K values. then calling initialize() function for getting initial_centers \n",
    "        kmeans_instance = kmeans(sample, initial_centers) # creating k means  object with data and\n",
    "        # initial_centers. This will set all variables value with the help of construter.\n",
    "        kmeans_instance.process() # calling process function for performing all oprations for finding clusters.\n",
    "        sse_within_cluster[k] = kmeans_instance.get_total_wce()\n",
    "\n",
    "        \n",
    "    _ = plt.figure(figsize=(10,6))\n",
    "    ax1 = plt.subplot(211)\n",
    "    _ = plt.plot(list(sse_within_cluster.keys()), list(sse_within_cluster.values()))\n",
    "    _ = plt.xlabel(\"Number of Clusters\")\n",
    "    _ = plt.ylabel(\"SSE Within Cluster\")\n",
    "    _ = plt.title(\"Within Cluster SSE After K-Means Clustering\")\n",
    "    _ = plt.xticks([i for i in range(2, max_loop)], rotation=75)"
   ]
  },
  {
   "cell_type": "code",
   "execution_count": 24,
   "metadata": {},
   "outputs": [
    {
     "data": {
      "image/png": "[encoded data removed]",
      "text/plain": [
       "<Figure size 720x432 with 1 Axes>"
      ]
     },
     "metadata": {
      "needs_background": "light"
     },
     "output_type": "display_data"
    }
   ],
   "source": [
    "plot_cluster(data, max_loop=25)"
   ]
  },
  {
   "cell_type": "markdown",
   "metadata": {},
   "source": [
    "From the graph, Within Cluster SSE After K-Means Clustering, we can see that as the number of clusters increase pass 12, the sum of square of errors within clusters plateaus off. But More cluster not give any meaning  So I would use 7 clusters in my K-Means model below."
   ]
  },
  {
   "cell_type": "code",
   "execution_count": 25,
   "metadata": {},
   "outputs": [],
   "source": [
    "\"\"\"\n",
    "This code will train the model on number of cluster we find.\n",
    "\"\"\"\n",
    "\n",
    "def apply_cluster(df, clusters=2):\n",
    "    \"\"\"\n",
    "    Applying K-Means with the optimal number of clusters identified\n",
    "    \"\"\"\n",
    "    try:\n",
    "        df.drop('cluster', axis=1, inplace=True)\n",
    "    except:\n",
    "        next\n",
    "    X = df.iloc[:,1:]\n",
    "    sample=X\n",
    "    initial_centers = kmeans_plusplus(sample, clusters).initialize()\n",
    "    kmeans_instance = kmeans(sample, initial_centers)\n",
    "    kmeans_instance.process()\n",
    "    df['cluster'] = kmeans_instance.get_label()\n",
    "    sse_within_cluster = kmeans_instance.get_total_wce()    \n",
    "    print(\"clustering performance\")\n",
    "    print(\"-----------------------------------\")\n",
    "    print(\"sse withing cluster: \" + str(sse_within_cluster.round()))\n",
    "    \n",
    "    return df,kmeans_instance.get_label()"
   ]
  },
  {
   "cell_type": "code",
   "execution_count": 26,
   "metadata": {},
   "outputs": [
    {
     "name": "stdout",
     "output_type": "stream",
     "text": [
      "clustering performance\n",
      "-----------------------------------\n",
      "sse withing cluster: 30.0\n"
     ]
    }
   ],
   "source": [
    "first_trial,labels = apply_cluster(data, clusters=7)"
   ]
  },
  {
   "cell_type": "markdown",
   "metadata": {},
   "source": [
    "#### Visulize Our Clusters"
   ]
  },
  {
   "cell_type": "code",
   "execution_count": 27,
   "metadata": {},
   "outputs": [
    {
     "data": {
      "text/plain": [
       "<matplotlib.collections.PathCollection at 0x1a495ee5348>"
      ]
     },
     "execution_count": 27,
     "metadata": {},
     "output_type": "execute_result"
    },
    {
     "data": {
      "image/png": "[encoded data removed]",
      "text/plain": [
       "<Figure size 432x288 with 1 Axes>"
      ]
     },
     "metadata": {
      "needs_background": "light"
     },
     "output_type": "display_data"
    }
   ],
   "source": [
    "plt.scatter(data['avg_yearly_returns'],data['yearly_variance'], c=labels, cmap='rainbow')"
   ]
  },
  {
   "cell_type": "code",
   "execution_count": 254,
   "metadata": {},
   "outputs": [
    {
     "data": {
      "text/html": [
       "<div>\n",
       "<style scoped>\n",
       "    .dataframe tbody tr th:only-of-type {\n",
       "        vertical-align: middle;\n",
       "    }\n",
       "\n",
       "    .dataframe tbody tr th {\n",
       "        vertical-align: top;\n",
       "    }\n",
       "\n",
       "    .dataframe thead th {\n",
       "        text-align: right;\n",
       "    }\n",
       "</style>\n",
       "<table border=\"1\" class=\"dataframe\">\n",
       "  <thead>\n",
       "    <tr style=\"text-align: right;\">\n",
       "      <th></th>\n",
       "      <th>cluster</th>\n",
       "      <th>avg_yearly_returns</th>\n",
       "      <th>yearly_variance</th>\n",
       "      <th>Name</th>\n",
       "    </tr>\n",
       "  </thead>\n",
       "  <tbody>\n",
       "    <tr>\n",
       "      <td>0</td>\n",
       "      <td>3</td>\n",
       "      <td>-0.101551</td>\n",
       "      <td>0.091948</td>\n",
       "      <td>21</td>\n",
       "    </tr>\n",
       "    <tr>\n",
       "      <td>1</td>\n",
       "      <td>4</td>\n",
       "      <td>0.035269</td>\n",
       "      <td>0.042768</td>\n",
       "      <td>155</td>\n",
       "    </tr>\n",
       "    <tr>\n",
       "      <td>2</td>\n",
       "      <td>0</td>\n",
       "      <td>0.130872</td>\n",
       "      <td>0.037805</td>\n",
       "      <td>228</td>\n",
       "    </tr>\n",
       "    <tr>\n",
       "      <td>3</td>\n",
       "      <td>6</td>\n",
       "      <td>0.168011</td>\n",
       "      <td>0.267742</td>\n",
       "      <td>11</td>\n",
       "    </tr>\n",
       "    <tr>\n",
       "      <td>4</td>\n",
       "      <td>5</td>\n",
       "      <td>0.248409</td>\n",
       "      <td>0.081428</td>\n",
       "      <td>72</td>\n",
       "    </tr>\n",
       "    <tr>\n",
       "      <td>5</td>\n",
       "      <td>1</td>\n",
       "      <td>0.457745</td>\n",
       "      <td>0.375688</td>\n",
       "      <td>11</td>\n",
       "    </tr>\n",
       "    <tr>\n",
       "      <td>6</td>\n",
       "      <td>2</td>\n",
       "      <td>0.560625</td>\n",
       "      <td>1.611375</td>\n",
       "      <td>1</td>\n",
       "    </tr>\n",
       "  </tbody>\n",
       "</table>\n",
       "</div>"
      ],
      "text/plain": [
       "   cluster  avg_yearly_returns  yearly_variance  Name\n",
       "0        3           -0.101551         0.091948    21\n",
       "1        4            0.035269         0.042768   155\n",
       "2        0            0.130872         0.037805   228\n",
       "3        6            0.168011         0.267742    11\n",
       "4        5            0.248409         0.081428    72\n",
       "5        1            0.457745         0.375688    11\n",
       "6        2            0.560625         1.611375     1"
      ]
     },
     "execution_count": 254,
     "metadata": {},
     "output_type": "execute_result"
    }
   ],
   "source": [
    "\"\"\"\n",
    "Creating data frame with cluster every point blong and how many stocks are in this clusters.\n",
    "\"\"\"\n",
    "cluster_perf_df = (\n",
    "    first_trial\n",
    "    .groupby('cluster')\n",
    "    .agg({\"avg_yearly_returns\":\"mean\", \"yearly_variance\":\"mean\", \"Name\":\"count\"})\n",
    "    .sort_values('avg_yearly_returns')\n",
    "    .reset_index()\n",
    ")\n",
    "cluster_perf_df"
   ]
  },
  {
   "cell_type": "markdown",
   "metadata": {},
   "source": [
    "From the dataframe above, we can see that the distribution of the stocks amongst the clusters is very skewed. Most of the stocks are aggregated in cluster 0 and clsuter 4. For the other clusters, we can see that the avg_yearly_returns and variance are huge. A savvy investor would definitely not invest in these other clusters as the swing is too big. As such, he/she would most probably invest in a stock in cluster 0 and cluster 4. As cluster 0 still contains too many stocks to choose from, I will attempt to conduct another K-Means clustering on cluster 0."
   ]
  },
  {
   "cell_type": "markdown",
   "metadata": {},
   "source": [
    "### Create New DataFrame"
   ]
  },
  {
   "cell_type": "code",
   "execution_count": 255,
   "metadata": {},
   "outputs": [],
   "source": [
    "# creating a dataframe that only consists of cluster `0`\n",
    "data_sub = data.query(\"cluster == 0\").reset_index(drop=True)"
   ]
  },
  {
   "cell_type": "code",
   "execution_count": 256,
   "metadata": {},
   "outputs": [
    {
     "data": {
      "image/png": "[encoded data removed]",
      "text/plain": [
       "<Figure size 720x432 with 1 Axes>"
      ]
     },
     "metadata": {
      "needs_background": "light"
     },
     "output_type": "display_data"
    }
   ],
   "source": [
    "plot_cluster(data_sub, max_loop=25)"
   ]
  },
  {
   "cell_type": "code",
   "execution_count": 257,
   "metadata": {},
   "outputs": [
    {
     "name": "stdout",
     "output_type": "stream",
     "text": [
      "clustering performance\n",
      "-----------------------------------\n",
      "sse withing cluster: 4.0\n"
     ]
    }
   ],
   "source": [
    "second_trial,labels = apply_cluster(data_sub, clusters=7)"
   ]
  },
  {
   "cell_type": "code",
   "execution_count": 258,
   "metadata": {},
   "outputs": [
    {
     "data": {
      "text/plain": [
       "<matplotlib.collections.PathCollection at 0x1f872468e08>"
      ]
     },
     "execution_count": 258,
     "metadata": {},
     "output_type": "execute_result"
    },
    {
     "data": {
      "image/png": "[encoded data removed]",
      "text/plain": [
       "<Figure size 432x288 with 1 Axes>"
      ]
     },
     "metadata": {
      "needs_background": "light"
     },
     "output_type": "display_data"
    }
   ],
   "source": [
    "plt.scatter(data_sub['avg_yearly_returns'],data_sub['yearly_variance'], c=labels, cmap='rainbow')"
   ]
  },
  {
   "cell_type": "code",
   "execution_count": 259,
   "metadata": {},
   "outputs": [
    {
     "data": {
      "text/html": [
       "<div>\n",
       "<style scoped>\n",
       "    .dataframe tbody tr th:only-of-type {\n",
       "        vertical-align: middle;\n",
       "    }\n",
       "\n",
       "    .dataframe tbody tr th {\n",
       "        vertical-align: top;\n",
       "    }\n",
       "\n",
       "    .dataframe thead th {\n",
       "        text-align: right;\n",
       "    }\n",
       "</style>\n",
       "<table border=\"1\" class=\"dataframe\">\n",
       "  <thead>\n",
       "    <tr style=\"text-align: right;\">\n",
       "      <th></th>\n",
       "      <th>cluster</th>\n",
       "      <th>avg_yearly_returns</th>\n",
       "      <th>yearly_variance</th>\n",
       "      <th>Name</th>\n",
       "    </tr>\n",
       "  </thead>\n",
       "  <tbody>\n",
       "    <tr>\n",
       "      <td>0</td>\n",
       "      <td>5</td>\n",
       "      <td>0.096766</td>\n",
       "      <td>0.019343</td>\n",
       "      <td>55</td>\n",
       "    </tr>\n",
       "    <tr>\n",
       "      <td>1</td>\n",
       "      <td>0</td>\n",
       "      <td>0.101508</td>\n",
       "      <td>0.057271</td>\n",
       "      <td>30</td>\n",
       "    </tr>\n",
       "    <tr>\n",
       "      <td>2</td>\n",
       "      <td>4</td>\n",
       "      <td>0.113758</td>\n",
       "      <td>0.112473</td>\n",
       "      <td>11</td>\n",
       "    </tr>\n",
       "    <tr>\n",
       "      <td>3</td>\n",
       "      <td>3</td>\n",
       "      <td>0.132974</td>\n",
       "      <td>0.021884</td>\n",
       "      <td>52</td>\n",
       "    </tr>\n",
       "    <tr>\n",
       "      <td>4</td>\n",
       "      <td>1</td>\n",
       "      <td>0.149352</td>\n",
       "      <td>0.062399</td>\n",
       "      <td>29</td>\n",
       "    </tr>\n",
       "    <tr>\n",
       "      <td>5</td>\n",
       "      <td>6</td>\n",
       "      <td>0.164546</td>\n",
       "      <td>0.133855</td>\n",
       "      <td>1</td>\n",
       "    </tr>\n",
       "    <tr>\n",
       "      <td>6</td>\n",
       "      <td>2</td>\n",
       "      <td>0.176193</td>\n",
       "      <td>0.030381</td>\n",
       "      <td>50</td>\n",
       "    </tr>\n",
       "  </tbody>\n",
       "</table>\n",
       "</div>"
      ],
      "text/plain": [
       "   cluster  avg_yearly_returns  yearly_variance  Name\n",
       "0        5            0.096766         0.019343    55\n",
       "1        0            0.101508         0.057271    30\n",
       "2        4            0.113758         0.112473    11\n",
       "3        3            0.132974         0.021884    52\n",
       "4        1            0.149352         0.062399    29\n",
       "5        6            0.164546         0.133855     1\n",
       "6        2            0.176193         0.030381    50"
      ]
     },
     "execution_count": 259,
     "metadata": {},
     "output_type": "execute_result"
    }
   ],
   "source": [
    "sub_cluster_perf_df = (\n",
    "    second_trial\n",
    "    .groupby('cluster')\n",
    "    .agg({\"avg_yearly_returns\":\"mean\", \"yearly_variance\":\"mean\", \"Name\":\"count\"})\n",
    "    .sort_values('avg_yearly_returns')\n",
    "    .reset_index()\n",
    ")\n",
    "\n",
    "sub_cluster_perf_df"
   ]
  },
  {
   "cell_type": "markdown",
   "metadata": {},
   "source": [
    "From the dataframe above, we can see that cluster 3 and cluster 2 would be the 2 better clusters to invest, amongst the rest. Cluster 2 yields a decent return of 17.6% with a 3% variance, while cluster 3 yields  return of 13.8%, with a correspondingly low variance of 2.1% from cluster 2. I decided to add in Sharpe Ratio as a metric to better evaluate the cluster performance."
   ]
  },
  {
   "cell_type": "markdown",
   "metadata": {},
   "source": [
    "### What is Sharpe Ratio?"
   ]
  },
  {
   "cell_type": "markdown",
   "metadata": {},
   "source": [
    "Sharpe Ratio is used to help investors understand the return of an investment compared to its risk. The ratio is the average return earned in excess of the risk-free rate per unit of volatility or total risk. It is derived using annual returns, variance and risk-free rate. A Sharpe Ratio of more than 1 is considered good while a Sharpe Ratio of more than 2 is considered very good."
   ]
  },
  {
   "cell_type": "markdown",
   "metadata": {},
   "source": [
    "#### How to compute Sharpe Ratio?\n",
    "Sharpe Ratio can be computed as such:\n",
    "\n",
    "$Sharpe\\ Ratio = (R_s - R_f) /{SD_s}$\n",
    "\n",
    "I will be using the first day of the year, 5-years daily U.S. yield rates, from https://home.treasury.gov/ as the risk-free rate."
   ]
  },
  {
   "cell_type": "code",
   "execution_count": 261,
   "metadata": {},
   "outputs": [],
   "source": [
    "\"\"\"\n",
    "This part of code is taken from sharp ratio.\n",
    "\"\"\"\n",
    "\n",
    "us_yield_curve_5years_dict = {\"year\": [ 2013, 2014, 2015, 2016, 2017, 2018],\n",
    "                         \"risk_free_rate\": [ 0.76, 1.72, 1.61, 1.73, 1.94, 2.25]}\n",
    "us_yield_curve_5years_df = pd.DataFrame.from_dict(us_yield_curve_5years_dict)\n",
    "\n",
    "avg_risk_free_rate = (\n",
    "    us_yield_curve_5years_df\n",
    "    .mean()\n",
    "    [['risk_free_rate']]\n",
    "    [0]\n",
    ")"
   ]
  },
  {
   "cell_type": "code",
   "execution_count": 262,
   "metadata": {},
   "outputs": [],
   "source": [
    "def get_sharpe_ratio_df(df):\n",
    "    \"\"\"\n",
    "    Computing Sharpe Ratio\n",
    "    \"\"\"\n",
    "    df_w_sharpe_ratio = (\n",
    "        df\n",
    "        .pipe(lambda x: x.assign(avg_risk_free_rate=avg_risk_free_rate/100))\n",
    "        .pipe(lambda x: x.assign(std_dev=np.sqrt(x['yearly_variance'])))\n",
    "        .pipe(lambda x: x.assign(sharpe_ratio=(x.avg_yearly_returns-x.avg_risk_free_rate)/x.std_dev))\n",
    "    )\n",
    "\n",
    "    return df_w_sharpe_ratio"
   ]
  },
  {
   "cell_type": "code",
   "execution_count": 263,
   "metadata": {},
   "outputs": [],
   "source": [
    "second_trial_w_sharpe_ratio = get_sharpe_ratio_df(second_trial)"
   ]
  },
  {
   "cell_type": "code",
   "execution_count": 264,
   "metadata": {},
   "outputs": [],
   "source": [
    "def get_transform_df(df_w_sharpe_ratio):\n",
    "    \"\"\"\n",
    "    Transforming dataframe so that we can plot a boxplot of `Returns`, `Variance` and `Sharpe Ratio` for each cluster\n",
    "    \"\"\"\n",
    "    df_yearly_returns = (\n",
    "        df_w_sharpe_ratio\n",
    "        [['avg_yearly_returns', 'cluster']]\n",
    "        .pipe(lambda x: x.assign(type='avg_yearly_returns'))\n",
    "        .rename(columns={\"avg_yearly_returns\": \"rate\"})\n",
    "    )\n",
    "\n",
    "    df_variance = (\n",
    "        df_w_sharpe_ratio\n",
    "        [['yearly_variance', 'cluster']]\n",
    "        .pipe(lambda x: x.assign(type='yearly_variance'))\n",
    "        .rename(columns={\"yearly_variance\": \"rate\"})\n",
    "    )\n",
    "\n",
    "    df_sharpe_ratio = (\n",
    "        df_w_sharpe_ratio\n",
    "        [['sharpe_ratio', 'cluster']]\n",
    "    )\n",
    "\n",
    "    df_transform = pd.concat([df_yearly_returns, df_variance], axis=0)\n",
    "\n",
    "    return df_transform, df_sharpe_ratio"
   ]
  },
  {
   "cell_type": "code",
   "execution_count": 265,
   "metadata": {},
   "outputs": [],
   "source": [
    "sub_cluster_transform, sub_cluster_sharpe_ratio = get_transform_df(second_trial_w_sharpe_ratio)\n"
   ]
  },
  {
   "cell_type": "code",
   "execution_count": 266,
   "metadata": {},
   "outputs": [],
   "source": [
    "def cluster_perf(transform_df, sharpe_ratio_df):\n",
    "    \"\"\"\n",
    "    Plotting boxplot of cluster performance\n",
    "    \"\"\"\n",
    "    _  = plt.figure(figsize=(15,7))\n",
    "\n",
    "    ax1 = plt.subplot(121)\n",
    "    _ = sns.boxplot(x='cluster', y='rate', hue='type', data=transform_df)\n",
    "    _ = plt.title(\"Distribution of Returns and Variance for each Cluster\")\n",
    "\n",
    "    ax2 = plt.subplot(122)\n",
    "    _ =sns.boxplot(x='cluster', y='sharpe_ratio', data=sharpe_ratio_df, color='royalblue')\n",
    "    _ = plt.title(\"Distribution of Sharpe Ratio for each Cluster\")"
   ]
  },
  {
   "cell_type": "code",
   "execution_count": 267,
   "metadata": {},
   "outputs": [
    {
     "data": {
      "image/png": "[encoded data removed]",
      "text/plain": [
       "<Figure size 1080x504 with 2 Axes>"
      ]
     },
     "metadata": {
      "needs_background": "light"
     },
     "output_type": "display_data"
    }
   ],
   "source": [
    "cluster_perf(sub_cluster_transform, sub_cluster_sharpe_ratio)"
   ]
  },
  {
   "cell_type": "markdown",
   "metadata": {},
   "source": [
    "From the charts above, we can see that cluster 2 has the best Sharpe Ratio distribution amongst the rest and that its average returns (17.8%) and variance (3.0%) is acceptable for my risk appetite. For someone who have a smaller risk appetite, he/she should be looking at cluster 3, where the sharpe ratio is still fairly decent, along with moderate average returns (13.2%) and variance(2%)\n",
    "\n",
    " I would like to take segement it even further so that I can have a smaller group of stocks to research on."
   ]
  },
  {
   "cell_type": "code",
   "execution_count": 269,
   "metadata": {},
   "outputs": [
    {
     "data": {
      "text/html": [
       "<div>\n",
       "<style scoped>\n",
       "    .dataframe tbody tr th:only-of-type {\n",
       "        vertical-align: middle;\n",
       "    }\n",
       "\n",
       "    .dataframe tbody tr th {\n",
       "        vertical-align: top;\n",
       "    }\n",
       "\n",
       "    .dataframe thead th {\n",
       "        text-align: right;\n",
       "    }\n",
       "</style>\n",
       "<table border=\"1\" class=\"dataframe\">\n",
       "  <thead>\n",
       "    <tr style=\"text-align: right;\">\n",
       "      <th></th>\n",
       "      <th>cluster</th>\n",
       "      <th>avg_yearly_returns</th>\n",
       "      <th>yearly_variance</th>\n",
       "      <th>sharpe_ratio</th>\n",
       "      <th>Name</th>\n",
       "    </tr>\n",
       "  </thead>\n",
       "  <tbody>\n",
       "    <tr>\n",
       "      <td>0</td>\n",
       "      <td>0</td>\n",
       "      <td>0.101508</td>\n",
       "      <td>0.057271</td>\n",
       "      <td>0.364030</td>\n",
       "      <td>30</td>\n",
       "    </tr>\n",
       "    <tr>\n",
       "      <td>1</td>\n",
       "      <td>1</td>\n",
       "      <td>0.149352</td>\n",
       "      <td>0.062399</td>\n",
       "      <td>0.541366</td>\n",
       "      <td>29</td>\n",
       "    </tr>\n",
       "    <tr>\n",
       "      <td>2</td>\n",
       "      <td>2</td>\n",
       "      <td>0.176193</td>\n",
       "      <td>0.030381</td>\n",
       "      <td>0.976050</td>\n",
       "      <td>50</td>\n",
       "    </tr>\n",
       "    <tr>\n",
       "      <td>3</td>\n",
       "      <td>3</td>\n",
       "      <td>0.132974</td>\n",
       "      <td>0.021884</td>\n",
       "      <td>0.841687</td>\n",
       "      <td>52</td>\n",
       "    </tr>\n",
       "    <tr>\n",
       "      <td>4</td>\n",
       "      <td>4</td>\n",
       "      <td>0.113758</td>\n",
       "      <td>0.112473</td>\n",
       "      <td>0.291347</td>\n",
       "      <td>11</td>\n",
       "    </tr>\n",
       "    <tr>\n",
       "      <td>5</td>\n",
       "      <td>5</td>\n",
       "      <td>0.096766</td>\n",
       "      <td>0.019343</td>\n",
       "      <td>0.652951</td>\n",
       "      <td>55</td>\n",
       "    </tr>\n",
       "    <tr>\n",
       "      <td>6</td>\n",
       "      <td>6</td>\n",
       "      <td>0.164546</td>\n",
       "      <td>0.133855</td>\n",
       "      <td>0.404150</td>\n",
       "      <td>1</td>\n",
       "    </tr>\n",
       "  </tbody>\n",
       "</table>\n",
       "</div>"
      ],
      "text/plain": [
       "   cluster  avg_yearly_returns  yearly_variance  sharpe_ratio  Name\n",
       "0        0            0.101508         0.057271      0.364030    30\n",
       "1        1            0.149352         0.062399      0.541366    29\n",
       "2        2            0.176193         0.030381      0.976050    50\n",
       "3        3            0.132974         0.021884      0.841687    52\n",
       "4        4            0.113758         0.112473      0.291347    11\n",
       "5        5            0.096766         0.019343      0.652951    55\n",
       "6        6            0.164546         0.133855      0.404150     1"
      ]
     },
     "execution_count": 269,
     "metadata": {},
     "output_type": "execute_result"
    }
   ],
   "source": [
    "(\n",
    "    second_trial_w_sharpe_ratio\n",
    "    .groupby(\"cluster\")\n",
    "    .agg({\"avg_yearly_returns\": \"mean\", \"yearly_variance\": \"mean\", \"sharpe_ratio\": \"mean\", \"Name\": \"count\"})\n",
    "    .reset_index()\n",
    ")"
   ]
  },
  {
   "cell_type": "code",
   "execution_count": 270,
   "metadata": {},
   "outputs": [],
   "source": [
    "# filtering out for cluster 1\n",
    "best_sub_cluster = second_trial.query(\"cluster == 2\")"
   ]
  },
  {
   "cell_type": "code",
   "execution_count": 271,
   "metadata": {},
   "outputs": [
    {
     "data": {
      "image/png": "[encoded data removed]",
      "text/plain": [
       "<Figure size 720x432 with 1 Axes>"
      ]
     },
     "metadata": {
      "needs_background": "light"
     },
     "output_type": "display_data"
    }
   ],
   "source": [
    "plot_cluster(best_sub_cluster, max_loop=15)"
   ]
  },
  {
   "cell_type": "code",
   "execution_count": 278,
   "metadata": {},
   "outputs": [
    {
     "name": "stdout",
     "output_type": "stream",
     "text": [
      "clustering performance\n",
      "-----------------------------------\n",
      "sse withing cluster: 0.0\n"
     ]
    }
   ],
   "source": [
    "third_trial,labels = apply_cluster(best_sub_cluster, clusters=5)\n"
   ]
  },
  {
   "cell_type": "code",
   "execution_count": 279,
   "metadata": {},
   "outputs": [
    {
     "data": {
      "text/plain": [
       "<matplotlib.collections.PathCollection at 0x1f8723d2ac8>"
      ]
     },
     "execution_count": 279,
     "metadata": {},
     "output_type": "execute_result"
    },
    {
     "data": {
      "image/png": "[encoded data removed]",
      "text/plain": [
       "<Figure size 432x288 with 1 Axes>"
      ]
     },
     "metadata": {
      "needs_background": "light"
     },
     "output_type": "display_data"
    }
   ],
   "source": [
    "plt.scatter(best_sub_cluster['avg_yearly_returns'],best_sub_cluster['yearly_variance'], c=labels, cmap='rainbow')"
   ]
  },
  {
   "cell_type": "code",
   "execution_count": 280,
   "metadata": {},
   "outputs": [
    {
     "data": {
      "text/html": [
       "<div>\n",
       "<style scoped>\n",
       "    .dataframe tbody tr th:only-of-type {\n",
       "        vertical-align: middle;\n",
       "    }\n",
       "\n",
       "    .dataframe tbody tr th {\n",
       "        vertical-align: top;\n",
       "    }\n",
       "\n",
       "    .dataframe thead th {\n",
       "        text-align: right;\n",
       "    }\n",
       "</style>\n",
       "<table border=\"1\" class=\"dataframe\">\n",
       "  <thead>\n",
       "    <tr style=\"text-align: right;\">\n",
       "      <th></th>\n",
       "      <th>cluster</th>\n",
       "      <th>avg_yearly_returns</th>\n",
       "      <th>yearly_variance</th>\n",
       "      <th>Name</th>\n",
       "    </tr>\n",
       "  </thead>\n",
       "  <tbody>\n",
       "    <tr>\n",
       "      <td>0</td>\n",
       "      <td>2</td>\n",
       "      <td>0.160830</td>\n",
       "      <td>0.027050</td>\n",
       "      <td>16</td>\n",
       "    </tr>\n",
       "    <tr>\n",
       "      <td>1</td>\n",
       "      <td>0</td>\n",
       "      <td>0.176013</td>\n",
       "      <td>0.048148</td>\n",
       "      <td>8</td>\n",
       "    </tr>\n",
       "    <tr>\n",
       "      <td>2</td>\n",
       "      <td>4</td>\n",
       "      <td>0.176625</td>\n",
       "      <td>0.018652</td>\n",
       "      <td>9</td>\n",
       "    </tr>\n",
       "    <tr>\n",
       "      <td>3</td>\n",
       "      <td>3</td>\n",
       "      <td>0.186037</td>\n",
       "      <td>0.034212</td>\n",
       "      <td>12</td>\n",
       "    </tr>\n",
       "    <tr>\n",
       "      <td>4</td>\n",
       "      <td>1</td>\n",
       "      <td>0.201239</td>\n",
       "      <td>0.024531</td>\n",
       "      <td>5</td>\n",
       "    </tr>\n",
       "  </tbody>\n",
       "</table>\n",
       "</div>"
      ],
      "text/plain": [
       "   cluster  avg_yearly_returns  yearly_variance  Name\n",
       "0        2            0.160830         0.027050    16\n",
       "1        0            0.176013         0.048148     8\n",
       "2        4            0.176625         0.018652     9\n",
       "3        3            0.186037         0.034212    12\n",
       "4        1            0.201239         0.024531     5"
      ]
     },
     "execution_count": 280,
     "metadata": {},
     "output_type": "execute_result"
    }
   ],
   "source": [
    "best_sub_cluster_perf = (    \n",
    "    third_trial\n",
    "    .groupby('cluster')\n",
    "    .agg({\"avg_yearly_returns\":\"mean\", \"yearly_variance\":\"mean\", \"Name\":\"count\"})\n",
    "    .sort_values('avg_yearly_returns')\n",
    "    .reset_index()\n",
    ")\n",
    "best_sub_cluster_perf"
   ]
  },
  {
   "cell_type": "code",
   "execution_count": 281,
   "metadata": {},
   "outputs": [],
   "source": [
    "third_trial_w_sharpe_ratio = get_sharpe_ratio_df(third_trial)"
   ]
  },
  {
   "cell_type": "code",
   "execution_count": 282,
   "metadata": {},
   "outputs": [],
   "source": [
    "best_sub_cluster_transform, best_sub_cluster_sharpe_ratio = get_transform_df(third_trial_w_sharpe_ratio)\n"
   ]
  },
  {
   "cell_type": "code",
   "execution_count": 283,
   "metadata": {},
   "outputs": [
    {
     "data": {
      "image/png": "[encoded data removed]",
      "text/plain": [
       "<Figure size 1080x504 with 2 Axes>"
      ]
     },
     "metadata": {
      "needs_background": "light"
     },
     "output_type": "display_data"
    }
   ],
   "source": [
    "cluster_perf(best_sub_cluster_transform, best_sub_cluster_sharpe_ratio)\n"
   ]
  },
  {
   "cell_type": "markdown",
   "metadata": {},
   "source": [
    "We can see that cluster 2 has the best sharpe ratio distribution and a very impressive average returns of 16 % and variance of 2.7% . This golden cluster of 16 stocks definitely captured my attention and I should focused my research on them and create a portfolio based on them."
   ]
  },
  {
   "cell_type": "code",
   "execution_count": 285,
   "metadata": {},
   "outputs": [
    {
     "data": {
      "text/html": [
       "<div>\n",
       "<style scoped>\n",
       "    .dataframe tbody tr th:only-of-type {\n",
       "        vertical-align: middle;\n",
       "    }\n",
       "\n",
       "    .dataframe tbody tr th {\n",
       "        vertical-align: top;\n",
       "    }\n",
       "\n",
       "    .dataframe thead th {\n",
       "        text-align: right;\n",
       "    }\n",
       "</style>\n",
       "<table border=\"1\" class=\"dataframe\">\n",
       "  <thead>\n",
       "    <tr style=\"text-align: right;\">\n",
       "      <th></th>\n",
       "      <th>cluster</th>\n",
       "      <th>avg_yearly_returns</th>\n",
       "      <th>yearly_variance</th>\n",
       "      <th>sharpe_ratio</th>\n",
       "      <th>Name</th>\n",
       "    </tr>\n",
       "  </thead>\n",
       "  <tbody>\n",
       "    <tr>\n",
       "      <td>0</td>\n",
       "      <td>0</td>\n",
       "      <td>0.176013</td>\n",
       "      <td>0.048148</td>\n",
       "      <td>0.728378</td>\n",
       "      <td>8</td>\n",
       "    </tr>\n",
       "    <tr>\n",
       "      <td>1</td>\n",
       "      <td>1</td>\n",
       "      <td>0.201239</td>\n",
       "      <td>0.024531</td>\n",
       "      <td>1.195823</td>\n",
       "      <td>5</td>\n",
       "    </tr>\n",
       "    <tr>\n",
       "      <td>2</td>\n",
       "      <td>2</td>\n",
       "      <td>0.160830</td>\n",
       "      <td>0.027050</td>\n",
       "      <td>0.936922</td>\n",
       "      <td>16</td>\n",
       "    </tr>\n",
       "    <tr>\n",
       "      <td>3</td>\n",
       "      <td>3</td>\n",
       "      <td>0.186037</td>\n",
       "      <td>0.034212</td>\n",
       "      <td>0.924652</td>\n",
       "      <td>12</td>\n",
       "    </tr>\n",
       "    <tr>\n",
       "      <td>4</td>\n",
       "      <td>4</td>\n",
       "      <td>0.176625</td>\n",
       "      <td>0.018652</td>\n",
       "      <td>1.212197</td>\n",
       "      <td>9</td>\n",
       "    </tr>\n",
       "  </tbody>\n",
       "</table>\n",
       "</div>"
      ],
      "text/plain": [
       "   cluster  avg_yearly_returns  yearly_variance  sharpe_ratio  Name\n",
       "0        0            0.176013         0.048148      0.728378     8\n",
       "1        1            0.201239         0.024531      1.195823     5\n",
       "2        2            0.160830         0.027050      0.936922    16\n",
       "3        3            0.186037         0.034212      0.924652    12\n",
       "4        4            0.176625         0.018652      1.212197     9"
      ]
     },
     "execution_count": 285,
     "metadata": {},
     "output_type": "execute_result"
    }
   ],
   "source": [
    "(\n",
    "    third_trial_w_sharpe_ratio\n",
    "    .groupby('cluster')\n",
    "    .agg({\"avg_yearly_returns\": \"mean\", \"yearly_variance\": \"mean\", \"sharpe_ratio\": \"mean\", \"Name\": \"count\"})\n",
    "    .reset_index()\n",
    ")"
   ]
  },
  {
   "cell_type": "code",
   "execution_count": 199,
   "metadata": {},
   "outputs": [
    {
     "data": {
      "text/plain": [
       "array(['BLK', 'CFG', 'IQV', 'IT', 'JPM', 'MAS', 'MMC', 'PNC', 'ROP',\n",
       "       'STI', 'SYK', 'WM', 'ZTS'], dtype=object)"
      ]
     },
     "execution_count": 199,
     "metadata": {},
     "output_type": "execute_result"
    }
   ],
   "source": [
    "third_trial.query(\"cluster == 2\").Name.unique()"
   ]
  },
  {
   "cell_type": "markdown",
   "metadata": {},
   "source": [
    "### Analyze complexity of code"
   ]
  },
  {
   "cell_type": "markdown",
   "metadata": {},
   "source": [
    "The multivariate normal, multinormal or Gaussian distribution is a generalization of the one-dimensional normal distribution to higher dimensions. Such a distribution is specified by its mean and covariance matrix."
   ]
  },
  {
   "cell_type": "code",
   "execution_count": 28,
   "metadata": {},
   "outputs": [],
   "source": [
    "d_means = {'cluster 1': [0, 0], \n",
    "           'cluster 2': [4, 5], \n",
    "           'cluster 3': [5, 0]}\n",
    "d_covs = {'cluster 1': [[1, 1], \n",
    "                        [1, 4]], \n",
    "          'cluster 2': [[1, 1], \n",
    "                        [1, 3]], \n",
    "          'cluster 3': [[4, 2], \n",
    "                        [2, 2]]}"
   ]
  },
  {
   "cell_type": "code",
   "execution_count": 29,
   "metadata": {},
   "outputs": [],
   "source": [
    "\"\"\"\n",
    "reference: https://h1ros.github.io/posts/make-simulated-data-for-clustering/\n",
    "\"\"\"\n",
    "\n",
    "\n",
    "def create_clustered_data(d_means, d_covs, n_data=1000):\n",
    "    \"\"\"create artificial data for clustering\n",
    "    \n",
    "    Parameters\n",
    "    ----------\n",
    "    d_means : dict\n",
    "        a dictionary of cluster means matrix. \n",
    "        The key is cluster name and the value.\n",
    "        Each value will be passed to np.random.multivariate_normal as mean\n",
    "    d_covs : dict\n",
    "        a dictionary of cluster covariance matrix. \n",
    "        The key is cluster name and the value.\n",
    "        Each value will be passed to np.random.multivariate_normal as covariance\n",
    "\n",
    "    Returns\n",
    "    -------\n",
    "    pd.DataFrame\n",
    "    \n",
    "    \"\"\"\n",
    "    # Generate data based on the above parameters\n",
    "    l = []\n",
    "    for cluster in d_means.keys():\n",
    "        random.seed(30)\n",
    "        arr = np.random.multivariate_normal(d_means[cluster], d_covs[cluster], n_data,)\n",
    "        df_tmp = pd.DataFrame(arr)\n",
    "        l.append(df_tmp)\n",
    "    return pd.concat(l)"
   ]
  },
  {
   "cell_type": "markdown",
   "metadata": {},
   "source": [
    "#### Time complexity analysis"
   ]
  },
  {
   "cell_type": "markdown",
   "metadata": {},
   "source": [
    "Creating a function which will be call for test data for clustring"
   ]
  },
  {
   "cell_type": "code",
   "execution_count": 30,
   "metadata": {},
   "outputs": [],
   "source": [
    "# I have coded this part myself\n",
    "def Clustring(samples):\n",
    "    global loopCounter\n",
    "    loopCounter = 0\n",
    "    initial_centers = kmeans_plusplus(samples, 5).initialize()\n",
    "    kmeans_instance = kmeans(samples, initial_centers)\n",
    "    kmeans_instance.process()"
   ]
  },
  {
   "cell_type": "code",
   "execution_count": 64,
   "metadata": {},
   "outputs": [],
   "source": [
    "\"\"\"\n",
    "https://electronut.in/plotting-algorithmic-time-complexity-of-a-function-using-python/\n",
    "\"\"\"\n",
    "\n",
    "import timeit \n",
    "from functools import partial\n",
    "# \n",
    "\n",
    "def plotTC(fn, nMin, nMax, nInc, nTests):\n",
    "    \"\"\"\n",
    "    Run timer and plot time complexity\n",
    "    \"\"\"\n",
    "    x = []\n",
    "    y = []\n",
    "    for i in range(nMin, nMax, nInc):\n",
    "        data = create_clustered_data(d_means, d_covs, n_data=i)\n",
    "        testNTimer = timeit.Timer(partial(fn, data))\n",
    "        t = testNTimer.timeit(number=nTests)\n",
    "        x.append(i)\n",
    "        y.append(t)\n",
    "    plt.xlabel('Size of Data (n)')\n",
    "    plt.ylabel('run time (secs)')\n",
    "    plt.title('Run Time Big(O) for K_Mean Clustring')\n",
    "    plt.plot(x, y, 'o-');\n"
   ]
  },
  {
   "cell_type": "code",
   "execution_count": 65,
   "metadata": {},
   "outputs": [
    {
     "name": "stdout",
     "output_type": "stream",
     "text": [
      "Analyzing Algorithms...\n"
     ]
    },
    {
     "data": {
      "image/png": "[encoded data removed]",
      "text/plain": [
       "<Figure size 432x288 with 1 Axes>"
      ]
     },
     "metadata": {
      "needs_background": "light"
     },
     "output_type": "display_data"
    }
   ],
   "source": [
    "print('Analyzing Algorithms...')\n",
    "plotTC(Clustring, 1000, 10000, 1000, 10)"
   ]
  },
  {
   "cell_type": "code",
   "execution_count": 31,
   "metadata": {},
   "outputs": [
    {
     "data": {
      "image/png": "[encoded data removed]",
      "text/plain": [
       "<Figure size 432x288 with 1 Axes>"
      ]
     },
     "metadata": {
      "needs_background": "light"
     },
     "output_type": "display_data"
    }
   ],
   "source": [
    "\"\"\"\n",
    "https://runestone.academy/runestone/books/published/StudentCSP/CSPWhileAndForLoops/whileCount.html\n",
    "and the notebook you give me\n",
    "\"\"\"\n",
    "#change by me\n",
    "def countLoops(value):\n",
    "    testData = create_clustered_data(d_means, d_covs, n_data=value) \n",
    "    Clustring(testData) \n",
    "    return loopCounter\n",
    "nvals    = [n for n in range(1000, 10000, 1000)]\n",
    "loopvals = [countLoops(n)  for n in nvals]\n",
    "plt.xlabel('Size of Data (n)')\n",
    "plt.ylabel('number of loops')\n",
    "plt.title('Loop Counting Big(O) for K Mean Clustring')\n",
    "plt.plot(nvals, loopvals, 'o-');"
   ]
  },
  {
   "cell_type": "code",
   "execution_count": null,
   "metadata": {},
   "outputs": [],
   "source": []
  }
 ],
 "metadata": {
  "kernelspec": {
   "display_name": "Python 3",
   "language": "python",
   "name": "python3"
  },
  "language_info": {
   "codemirror_mode": {
    "name": "ipython",
    "version": 3
   },
   "file_extension": ".py",
   "mimetype": "text/x-python",
   "name": "python",
   "nbconvert_exporter": "python",
   "pygments_lexer": "ipython3",
   "version": "3.7.4"
  }
 },
 "nbformat": 4,
 "nbformat_minor": 2
}
